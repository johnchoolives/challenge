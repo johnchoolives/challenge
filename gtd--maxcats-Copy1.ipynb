{
 "cells": [
  {
   "cell_type": "markdown",
   "metadata": {},
   "source": [
    "# Imports"
   ]
  },
  {
   "cell_type": "code",
   "execution_count": 1,
   "metadata": {},
   "outputs": [],
   "source": [
    "%load_ext autoreload\n",
    "%autoreload 2\n",
    "%matplotlib inline"
   ]
  },
  {
   "cell_type": "code",
   "execution_count": 2,
   "metadata": {},
   "outputs": [],
   "source": [
    "%matplotlib inline\n",
    "\n",
    "from fastai.imports import *\n",
    "from fastai.structured import *\n",
    "from pandas_summary import DataFrameSummary\n",
    "from sklearn.ensemble import RandomForestRegressor, RandomForestClassifier\n",
    "from IPython.display import display\n",
    "from sklearn import metrics\n",
    "\n",
    "from fastai.column_data import *\n",
    "np.set_printoptions(threshold=50, edgeitems=20)"
   ]
  },
  {
   "cell_type": "markdown",
   "metadata": {
    "heading_collapsed": true
   },
   "source": [
    "# Initial Load data from original csv"
   ]
  },
  {
   "cell_type": "code",
   "execution_count": 7,
   "metadata": {
    "hidden": true
   },
   "outputs": [],
   "source": [
    "def display_all(df):\n",
    "    with pd.option_context('display.max_rows', 1000, 'display.max_columns', 1000):\n",
    "        display(df)"
   ]
  },
  {
   "cell_type": "code",
   "execution_count": 6,
   "metadata": {
    "hidden": true
   },
   "outputs": [
    {
     "name": "stdout",
     "output_type": "stream",
     "text": [
      "answer1\t\t\t\t gtd_13to16_0617dist.xlsx  gtd_full.csv\r\n",
      "answer-rf.csv\t\t\t gtd1993_0617dist.xlsx\t   gtd-raw-allcats-dt\r\n",
      "Codebook.pdf\t\t\t gtd_70to94_0617dist.xlsx  TermsofUse.pdf\r\n",
      "globalterrorismdb_0617dist.xlsx  gtd_95to12_0617dist.xlsx\r\n"
     ]
    }
   ],
   "source": [
    "PATH = \"data/gtd/\"\n",
    "\n",
    "!ls {PATH}"
   ]
  },
  {
   "cell_type": "code",
   "execution_count": null,
   "metadata": {
    "hidden": true
   },
   "outputs": [],
   "source": [
    "% time df_raw = pd.read_excel(f\"{PATH}/globalterrorismdb_0617dist.xlsx\")"
   ]
  },
  {
   "cell_type": "code",
   "execution_count": null,
   "metadata": {
    "hidden": true
   },
   "outputs": [],
   "source": [
    "display_all(xl.tail().T)"
   ]
  },
  {
   "cell_type": "code",
   "execution_count": null,
   "metadata": {
    "hidden": true
   },
   "outputs": [],
   "source": [
    "display_all(xl.describe(include='all').T)"
   ]
  },
  {
   "cell_type": "code",
   "execution_count": null,
   "metadata": {
    "hidden": true
   },
   "outputs": [],
   "source": [
    "% time df_raw.to_feather('tmp/gtd-raw')"
   ]
  },
  {
   "cell_type": "markdown",
   "metadata": {
    "heading_collapsed": true
   },
   "source": [
    "# Load gtd_raw_sum"
   ]
  },
  {
   "cell_type": "code",
   "execution_count": 8,
   "metadata": {
    "hidden": true
   },
   "outputs": [
    {
     "name": "stdout",
     "output_type": "stream",
     "text": [
      "CPU times: user 458 ms, sys: 261 ms, total: 719 ms\n",
      "Wall time: 2.25 s\n"
     ]
    },
    {
     "data": {
      "text/plain": [
       "(170350, 105)"
      ]
     },
     "execution_count": 8,
     "metadata": {},
     "output_type": "execute_result"
    }
   ],
   "source": [
    "%time df_raw = pd.read_feather('tmp/gtd_raw_sum')\n",
    "df_raw.shape"
   ]
  },
  {
   "cell_type": "code",
   "execution_count": 10,
   "metadata": {
    "collapsed": true,
    "hidden": true
   },
   "outputs": [
    {
     "data": {
      "text/plain": [
       "(105,\n",
       " [(170350, dtype('int64'), 'eventid'),\n",
       "  (46, dtype('int64'), 'iyear'),\n",
       "  (13, dtype('int64'), 'imonth'),\n",
       "  (32, dtype('int64'), 'iday'),\n",
       "  (2, dtype('int64'), 'extended'),\n",
       "  (1862, dtype('<M8[ns]'), 'resolution'),\n",
       "  (205, dtype('O'), 'country_txt'),\n",
       "  (12, dtype('O'), 'region_txt'),\n",
       "  (2495, dtype('O'), 'provstate'),\n",
       "  (33958, dtype('O'), 'city'),\n",
       "  (61029, dtype('float64'), 'latitude'),\n",
       "  (60603, dtype('float64'), 'longitude'),\n",
       "  (6, dtype('float64'), 'specificity'),\n",
       "  (3, dtype('int64'), 'vicinity'),\n",
       "  (39817, dtype('O'), 'location'),\n",
       "  (2, dtype('int64'), 'crit1'),\n",
       "  (2, dtype('int64'), 'crit2'),\n",
       "  (2, dtype('int64'), 'crit3'),\n",
       "  (3, dtype('int64'), 'doubtterr'),\n",
       "  (6, dtype('O'), 'alternative_txt'),\n",
       "  (2, dtype('int64'), 'multiple'),\n",
       "  (2, dtype('int64'), 'success'),\n",
       "  (2, dtype('int64'), 'suicide'),\n",
       "  (9, dtype('O'), 'attacktype1_txt'),\n",
       "  (10, dtype('O'), 'attacktype2_txt'),\n",
       "  (8, dtype('O'), 'attacktype3_txt'),\n",
       "  (22, dtype('O'), 'targtype1_txt'),\n",
       "  (111, dtype('O'), 'targsubtype1_txt'),\n",
       "  (31300, dtype('O'), 'corp1'),\n",
       "  (82975, dtype('O'), 'target1'),\n",
       "  (214, dtype('O'), 'natlty1_txt'),\n",
       "  (23, dtype('O'), 'targtype2_txt'),\n",
       "  (98, dtype('O'), 'targsubtype2_txt'),\n",
       "  (2475, dtype('O'), 'corp2'),\n",
       "  (4791, dtype('O'), 'target2'),\n",
       "  (157, dtype('O'), 'natlty2_txt'),\n",
       "  (21, dtype('O'), 'targtype3_txt'),\n",
       "  (90, dtype('O'), 'targsubtype3_txt'),\n",
       "  (377, dtype('O'), 'corp3'),\n",
       "  (666, dtype('O'), 'target3'),\n",
       "  (105, dtype('O'), 'natlty3_txt'),\n",
       "  (3454, dtype('O'), 'gname'),\n",
       "  (1099, dtype('O'), 'gsubname'),\n",
       "  (384, dtype('O'), 'gname2'),\n",
       "  (59, dtype('O'), 'gsubname2'),\n",
       "  (104, dtype('O'), 'gname3'),\n",
       "  (14, dtype('O'), 'gsubname3'),\n",
       "  (13034, dtype('O'), 'motive'),\n",
       "  (3, dtype('float64'), 'guncertain1'),\n",
       "  (3, dtype('float64'), 'guncertain2'),\n",
       "  (3, dtype('float64'), 'guncertain3'),\n",
       "  (2, dtype('int64'), 'individual'),\n",
       "  (113, dtype('float64'), 'nperps'),\n",
       "  (51, dtype('float64'), 'nperpcap'),\n",
       "  (4, dtype('float64'), 'claimed'),\n",
       "  (11, dtype('O'), 'claimmode_txt'),\n",
       "  (4, dtype('float64'), 'claim2'),\n",
       "  (10, dtype('O'), 'claimmode2_txt'),\n",
       "  (3, dtype('float64'), 'claim3'),\n",
       "  (9, dtype('O'), 'claimmode3_txt'),\n",
       "  (4, dtype('float64'), 'compclaim'),\n",
       "  (12, dtype('O'), 'weaptype1_txt'),\n",
       "  (30, dtype('O'), 'weapsubtype1_txt'),\n",
       "  (12, dtype('O'), 'weaptype2_txt'),\n",
       "  (29, dtype('O'), 'weapsubtype2_txt'),\n",
       "  (11, dtype('O'), 'weaptype3_txt'),\n",
       "  (24, dtype('O'), 'weapsubtype3_txt'),\n",
       "  (6, dtype('O'), 'weaptype4_txt'),\n",
       "  (17, dtype('O'), 'weapsubtype4_txt'),\n",
       "  (18247, dtype('O'), 'weapdetail'),\n",
       "  (200, dtype('float64'), 'nkill'),\n",
       "  (31, dtype('float64'), 'nkillus'),\n",
       "  (91, dtype('float64'), 'nkillter'),\n",
       "  (234, dtype('float64'), 'nwound'),\n",
       "  (45, dtype('float64'), 'nwoundus'),\n",
       "  (43, dtype('float64'), 'nwoundte'),\n",
       "  (3, dtype('int64'), 'property'),\n",
       "  (5, dtype('O'), 'propextent_txt'),\n",
       "  (641, dtype('float64'), 'propvalue'),\n",
       "  (18345, dtype('O'), 'propcomment'),\n",
       "  (4, dtype('float64'), 'ishostkid'),\n",
       "  (203, dtype('float64'), 'nhostkid'),\n",
       "  (28, dtype('float64'), 'nhostkidus'),\n",
       "  (36, dtype('float64'), 'nhours'),\n",
       "  (314, dtype('float64'), 'ndays'),\n",
       "  (144, dtype('O'), 'divert'),\n",
       "  (218, dtype('O'), 'kidhijcountry'),\n",
       "  (4, dtype('float64'), 'ransom'),\n",
       "  (396, dtype('float64'), 'ransomamt'),\n",
       "  (23, dtype('float64'), 'ransomamtus'),\n",
       "  (137, dtype('float64'), 'ransompaid'),\n",
       "  (9, dtype('float64'), 'ransompaidus'),\n",
       "  (346, dtype('O'), 'ransomnote'),\n",
       "  (8, dtype('O'), 'hostkidoutcome_txt'),\n",
       "  (151, dtype('float64'), 'nreleased'),\n",
       "  (14151, dtype('O'), 'addnotes'),\n",
       "  (75888, dtype('O'), 'scite1'),\n",
       "  (56563, dtype('O'), 'scite2'),\n",
       "  (32563, dtype('O'), 'scite3'),\n",
       "  (26, dtype('O'), 'dbsource'),\n",
       "  (3, dtype('int64'), 'INT_LOG'),\n",
       "  (3, dtype('int64'), 'INT_IDEO'),\n",
       "  (3, dtype('int64'), 'INT_MISC'),\n",
       "  (3, dtype('int64'), 'INT_ANY'),\n",
       "  (20830, dtype('O'), 'related')])"
      ]
     },
     "execution_count": 10,
     "metadata": {},
     "output_type": "execute_result"
    }
   ],
   "source": [
    "# list number of unique values for each column\n",
    "a = [(len(df_raw[c].unique()),df_raw[c].dtype,c) for c in df_raw.columns]\n",
    "len(a),a"
   ]
  },
  {
   "cell_type": "code",
   "execution_count": 12,
   "metadata": {
    "hidden": true,
    "scrolled": true
   },
   "outputs": [
    {
     "data": {
      "text/plain": [
       "(15,\n",
       " [(170350, dtype('int64'), 'eventid'),\n",
       "  (33958, dtype('O'), 'city'),\n",
       "  (61029, dtype('float64'), 'latitude'),\n",
       "  (60603, dtype('float64'), 'longitude'),\n",
       "  (39817, dtype('O'), 'location'),\n",
       "  (31300, dtype('O'), 'corp1'),\n",
       "  (82975, dtype('O'), 'target1'),\n",
       "  (13034, dtype('O'), 'motive'),\n",
       "  (18247, dtype('O'), 'weapdetail'),\n",
       "  (18345, dtype('O'), 'propcomment'),\n",
       "  (14151, dtype('O'), 'addnotes'),\n",
       "  (75888, dtype('O'), 'scite1'),\n",
       "  (56563, dtype('O'), 'scite2'),\n",
       "  (32563, dtype('O'), 'scite3'),\n",
       "  (20830, dtype('O'), 'related')])"
      ]
     },
     "execution_count": 12,
     "metadata": {},
     "output_type": "execute_result"
    }
   ],
   "source": [
    "# list columns with unique values > n\n",
    "n = 10000\n",
    "a0 = [a0 for a0 in a if a0[0]>n]\n",
    "len(a0),a0"
   ]
  },
  {
   "cell_type": "code",
   "execution_count": 13,
   "metadata": {
    "hidden": true
   },
   "outputs": [
    {
     "data": {
      "text/plain": [
       "'object'"
      ]
     },
     "execution_count": 13,
     "metadata": {},
     "output_type": "execute_result"
    }
   ],
   "source": [
    "df_raw['scite1'].dtype.name"
   ]
  },
  {
   "cell_type": "code",
   "execution_count": 15,
   "metadata": {
    "collapsed": true,
    "hidden": true
   },
   "outputs": [
    {
     "data": {
      "text/plain": [
       "Christopher Hewitt, \"Political Violence and Terrorism in Modern America: A Chronology,\" Praeger Security International, 2005.                                                                                                                                                                   134\n",
       "\"Iraq: Security Roundup 1900 GMT 27 September 2016,\" Summary, September 27, 2016.                                                                                                                                                                                                               100\n",
       "\"Attack on 80 electricity towers in Anbar leaves 2 casualties,\" Iraqi News, December 1, 2016.                                                                                                                                                                                                    63\n",
       "\"IS ignites sectarian tensions in multiple Iraq bombings,\" Middle East Eye, January 12, 2016.                                                                                                                                                                                                    43\n",
       "“Terrorist Attacks: The Positive Outcomes,” The Jakarta Post, December 26, 2002.                                                                                                                                                                                                                 39\n",
       "\"Dhaka: Election Official Killed, 150 Polling Centers Burnt as Violence Peaks on Eve of General Poll,\" New Age Online, January 5, 2014.                                                                                                                                                          35\n",
       "\"Selection List: Thai Press From Pattani, Yala, Narathiwat Provinces 14-20 October 2013,\" OSC Summary, October 14, 2013.                                                                                                                                                                         32\n",
       "\"Wave of   attacks   kills 88 in Iraq,\" Agence France Presse -- English, September 9, 2012.                                                                                                                                                                                                      30\n",
       "\"Three more bombs hit Yala,\" Bangkok Post, May 16, 2015.                                                                                                                                                                                                                                         30\n",
       "William Sater, \"Puerto Rican Terrorists: A Possible Threat to U.S. Energy Installations?,\" RAND, October 1981.                                                                                                                                                                                   28\n",
       "Marcia McKnight Trick, \"Chronology of Incidents of Terroristic, Quasi-Terroristic, and Political Violence in the United States: January 1965 to March 1976,\" National Advisory Committee on Criminal Justice Standards and Goals: Report of the Task Force on Disorders and Terrorism, 1976.     28\n",
       "\"Iraq: Roundup of Security Incidents 06-12 May 2014,\" OSC Summary, May 13, 2014.                                                                                                                                                                                                                 27\n",
       "\"Bomb Attacks Around Iraq Target Shiites, Killing Dozens,\" The New York Times, June 14, 2012.                                                                                                                                                                                                    26\n",
       "\"Corsican Separatists Attack Luxury   Holiday Villa,\" Global Insight, July 4, 2012.                                                                                                                                                                                                              26\n",
       "\"18 Dead, Many Missing As Fulani Herdsmen Sack Governor Suswam's Village,\" Vanguard (Lagos), February 11, 2015.                                                                                                                                                                                  24\n",
       "\"Corsican bombers attack dozens of holiday homes,\" dpa International Service in English, December 8, 2012.                                                                                                                                                                                       24\n",
       "\"Iraq's al-Qaida claims responsibility for Monday's attacks,\" Xinhua News Agency, July 30, 2013.                                                                                                                                                                                                 22\n",
       "\"Iraq: Roundup of Security Incidents 18-24 March 2014,\" OSC Summary, March 25, 2014.                                                                                                                                                                                                             21\n",
       "\"Iraq: Roundup of Security Incidents 26 November-02 December 2013,\" OSC Summary, November 26, 2013.                                                                                                                                                                                              21\n",
       "\"Roundup of ISIL Claims of Attack in Iraq 11-20 August 2014,\" OSC Summary, August 11, 2014.                                                                                                                                                                                                      21\n",
       "\"Iraq: Roundup of Security Incidents 26 July - 1 August 2016,\" Summary, July 26, 2016.                                                                                                                                                                                                           21\n",
       "\"Mobile phone towers attacked in north Nigeria,\" Press Trust of India, September 7, 2012.                                                                                                                                                                                                        20\n",
       "Clark Howard, \"Zebra: The true account of the 179 days of terror in San Francisco,\" Richard Marek Publishers, 1979.                                                                                                                                                                              20\n",
       "\"Thailand: Power posts damaged by bombs in Narathiwat,\" Bangkok Post Online, August 7, 2016.                                                                                                                                                                                                     20\n",
       "\"Iraq: Roundup of Security Incidents 01-06 April 2014,\" OSC Summary, April 7, 2014.                                                                                                                                                                                                              19\n",
       "\"Iraq: Roundup of Security Incidents 03-09 June 2014,\" OSC Summary, June 10, 2014.                                                                                                                                                                                                               19\n",
       "\"Ten houses, belong to security elements, blown up in Kirkuk,\" National Iraq News Agency, October 9, 2013.                                                                                                                                                                                       18\n",
       "\"Thailand: Yala hit by bombs, arson attacks,\" Bangkok Post Online, October 29, 2015.                                                                                                                                                                                                             18\n",
       "\"Roundup: Wave of   bomb attacks   in Iraq kill 32, injure over 100,\" Xinhua General News Service, December 17, 2012.                                                                                                                                                                            18\n",
       "“Student, 21, Is Arrested in Nevada in 5-State Bombing Spree.” New York Times¸ May 8, 2002.                                                                                                                                                                                                      18\n",
       "                                                                                                                                                                                                                                                                                               ... \n",
       "Al-Mada, “Two civilians were killed and four others were injured in an explosion in Al-Hawijah (District),” August 3, 2006.                                                                                                                                                                       1\n",
       "“C o n d o l e n c e,\" Pakistan Press International, December 22, 2001.                                                                                                                                                                                                                           1\n",
       "\"Syria: Al-Nusrah Front Operational Claims Roundup, 21-31 May 2015,\" OSC Summary, May 21, 2015.                                                                                                                                                                                                   1\n",
       "S. Ghellab, \"Terrorism: A commander of the ANP killed in a bombing in M'Sila (Terrorisme : Un commandant de l’ANP tué dans un attentat à M'Sila),\" El Watan, October 8, 2008.                                                                                                                     1\n",
       "South Asia Terrorism Portal, \"Gas Pipeline Blown up in Balochistan,\" http://www.satp.org/satporgtp/detailed_news3.asp?date3=2011%2F6%2F25#1 (June 25, 2011).                                                                                                                                      1\n",
       "\"PYF chairman injured in firing,\" Plus News Pakistan, November 25, 2014.                                                                                                                                                                                                                          1\n",
       "\"Eight Turkish soldiers killed, Istanbul palace attacked,\" DAWN Group, August 20, 2015.                                                                                                                                                                                                           1\n",
       "\"Cairo Plant Burns During Racial Clash,\" Washington Post, November 9, 1970.                                                                                                                                                                                                                       1\n",
       "\"Boko Haram attacks will not affect Bauchi results â€“ INEC,\" Premium Times, March 29, 2015.                                                                                                                                                                                                      1\n",
       "Daily Times, \"PTC Hangu's Kidned Instructors Recovered,\" LexisNexis Academic, Daily Times, September 13, 2009.                                                                                                                                                                                    1\n",
       "Philstar, James Mananghaya & Roel PareÃ±o, \"Army Launches Search, Rescue for 2 Abducted Victims in Sulu,\" http://www.philstar.com/Article.aspx?articleId=424229 (December 16, 2008).                                                                                                              1\n",
       "\"Pakistan: Blast in Tirah Valley kills two security personnel,\" Dawn Online, April 1, 2015.                                                                                                                                                                                                       1\n",
       "\"Yemeni   police   foil bomb   attack   in Aden,\" Xinhua General News Service, July 23, 2012.                                                                                                                                                                                                     1\n",
       "Elaine Ganley, “Bomb blast at Indonesian Embassy in Paris wounds nine,” The Associated Press, October 8, 2004.                                                                                                                                                                                    1\n",
       "Associated Press Worldstream, \"Senior Iraqi Traffic Official Killed, Police Say,\" LexisNexis Academic, Associated Press Worldstream, May 11, 2009.                                                                                                                                                1\n",
       "\"Xinhua Middle East news summary at 2200 GMT, Feb. 7,\" Xinhua General News Service, February 7, 2015.                                                                                                                                                                                             1\n",
       "Sammer N. Yacoub, “2 Sunni coaches abducted from youth club in Baghdad; 2 U.S. troops reported killed,” The Associated Press, November 1, 2006                                                                                                                                                    1\n",
       "Jane’s Intelligence, “Suspected NPA Militants Injure Two in the Philippines' Samar,” Terrorism Watch Report, Philippines Daily Inquirer, November 2, 2010.                                                                                                                                        1\n",
       "\"Fighting in Afghan city of Kunduz enters fifth day,\" Deutsche Presse-Agentur, October 7, 2016.                                                                                                                                                                                                   1\n",
       "Gurubacharya, Binaj, “Suspected Tamil rebels kill two Muslims in eastern Sri Lanka, military says,” Associated Press Worldstream, April 07, 2006.                                                                                                                                                 1\n",
       "\"Afghanistan: Motorbike Bomb Explosion Wounds 8 People in Baghlan Province,\" Pajhwok Afghan News, December 15, 2014.                                                                                                                                                                              1\n",
       "\"Conflict leaves 2 militants, 4 police dead in Afghanistan,\" Xinhua News Agency, October 24, 2013.                                                                                                                                                                                                1\n",
       "Zee News, “Maoist Torch Vehicles, Machinery in Chatra/Lohardaga,” Press Trust of India, http://zeenews.india.com/news/state-news/maoist-torch-vehicles-machinery-in-chatra-lohardaga_710259.html (June 1, 2011).                                                                                  1\n",
       "\"Shootings Mar Election in Papua,\" Tempo.co, April 10, 2014.                                                                                                                                                                                                                                      1\n",
       "Hindu, \"Trinamool Leader's Son Abducted, Freed,\" Hindu, October 4, 2011, http://www.thehindu.com/news/states/other-states/article2509903.ece.                                                                                                                                                     1\n",
       "El Tiempo, \"Two People Injured as a Result of Explosive Device in Yarumal, Antioquia,\" El Tiempo, June 27, 2010, www.eltiempo.com/.../ARTICULO-WEB-NOTA_INTERIOR_HT-7771121.html.                                                                                                                 1\n",
       "Shabelle Media Network, \"Shelling Targeted to Displaced Camps Kills Two, Injuries More in Mogadishu,\" Shabelle Media Network, August 19, 2010.                                                                                                                                                    1\n",
       "National Counterterrorism Center, \"One Police Station Damaged in Bombing in Ganzi, Sichuan, China,\" Worldwide Incidents Tracking System, December 18, 2009.                                                                                                                                       1\n",
       "\"Outnumbered SAS hero kills six IS fighters by himself in Syria,\" MSN UK, September 21, 2015.                                                                                                                                                                                                     1\n",
       "\"Military figure killed in Yemen,\" Big News Network, August 4, 2013.                                                                                                                                                                                                                              1\n",
       "Name: scite2, Length: 56562, dtype: int64"
      ]
     },
     "execution_count": 15,
     "metadata": {},
     "output_type": "execute_result"
    }
   ],
   "source": [
    "# check freq of each value in a column\n",
    "cname = 'scite2'\n",
    "df_raw[cname].value_counts()"
   ]
  },
  {
   "cell_type": "markdown",
   "metadata": {
    "heading_collapsed": true
   },
   "source": [
    "# convert datetime"
   ]
  },
  {
   "cell_type": "code",
   "execution_count": 54,
   "metadata": {
    "hidden": true
   },
   "outputs": [],
   "source": [
    "# convert all o dates to mid of month or year\n",
    "df_raw['imonth'] = df_raw['imonth'].apply(lambda x: 6 if x==0 else x)\n",
    "df_raw['iday'] = df_raw['iday'].apply(lambda x: 15 if x==0 else x)"
   ]
  },
  {
   "cell_type": "code",
   "execution_count": 55,
   "metadata": {
    "hidden": true
   },
   "outputs": [
    {
     "data": {
      "text/plain": [
       "((0, 105), (0, 105))"
      ]
     },
     "execution_count": 55,
     "metadata": {},
     "output_type": "execute_result"
    }
   ],
   "source": [
    "#check if any more 0 dates\n",
    "df_raw[df_raw['imonth']==0].shape, df_raw[df_raw['iday']==0].shape"
   ]
  },
  {
   "cell_type": "code",
   "execution_count": 56,
   "metadata": {
    "hidden": true
   },
   "outputs": [],
   "source": [
    "# combine year, month, day to 1 col\n",
    "df_raw['mydate'] = df_raw['iyear'].astype(str)+'/'+df_raw['imonth'].astype(str)+'/'+df_raw['iday'].astype(str)\n",
    "df_raw['mydate'] = pd.to_datetime(df_raw['mydate'], format='%Y/%m/%d')\n",
    "for c in ['iyear','imonth','iday']: df_raw.drop(c, axis=1, inplace=True)"
   ]
  },
  {
   "cell_type": "code",
   "execution_count": 57,
   "metadata": {
    "hidden": true
   },
   "outputs": [
    {
     "data": {
      "text/plain": [
       "(170350, 103)"
      ]
     },
     "execution_count": 57,
     "metadata": {},
     "output_type": "execute_result"
    }
   ],
   "source": [
    "df_raw['mydate'] = pd.to_datetime(df_raw['mydate'], format='%Y/%m/%d')\n",
    "df_raw.shape"
   ]
  },
  {
   "cell_type": "code",
   "execution_count": 58,
   "metadata": {
    "hidden": true
   },
   "outputs": [
    {
     "data": {
      "text/plain": [
       "(170350, 115)"
      ]
     },
     "execution_count": 58,
     "metadata": {},
     "output_type": "execute_result"
    }
   ],
   "source": [
    "add_datepart(df_raw, 'mydate')\n",
    "df_raw.shape"
   ]
  },
  {
   "cell_type": "code",
   "execution_count": 59,
   "metadata": {
    "hidden": true
   },
   "outputs": [
    {
     "name": "stdout",
     "output_type": "stream",
     "text": [
      "CPU times: user 407 ms, sys: 149 ms, total: 556 ms\n",
      "Wall time: 886 ms\n"
     ]
    }
   ],
   "source": [
    "%time df_raw.to_feather('tmp/gtd-raw-allcats-dt')"
   ]
  },
  {
   "cell_type": "code",
   "execution_count": null,
   "metadata": {
    "hidden": true
   },
   "outputs": [],
   "source": []
  },
  {
   "cell_type": "markdown",
   "metadata": {},
   "source": [
    "# Split data into train, valid, test sets"
   ]
  },
  {
   "cell_type": "code",
   "execution_count": 3,
   "metadata": {},
   "outputs": [],
   "source": [
    "df_raw = pd.read_feather('tmp/gtd-raw-allcats-dt')"
   ]
  },
  {
   "cell_type": "code",
   "execution_count": 4,
   "metadata": {},
   "outputs": [
    {
     "data": {
      "text/plain": [
       "((78306, 115), (92044, 115))"
      ]
     },
     "execution_count": 4,
     "metadata": {},
     "output_type": "execute_result"
    }
   ],
   "source": [
    "df_test = df_raw[df_raw['gname']=='Unknown'].copy()\n",
    "df_trn = df_raw[df_raw['gname']!='Unknown'].copy()\n",
    "df_test.shape, df_trn.shape"
   ]
  },
  {
   "cell_type": "markdown",
   "metadata": {},
   "source": [
    "# convert max cats"
   ]
  },
  {
   "cell_type": "code",
   "execution_count": 5,
   "metadata": {},
   "outputs": [
    {
     "data": {
      "text/plain": [
       "(112, 6, (170350, 115))"
      ]
     },
     "execution_count": 5,
     "metadata": {},
     "output_type": "execute_result"
    }
   ],
   "source": [
    "xcats = ['eventid', 'iyear', 'imonth', 'iday', 'latitude', 'longitude']\n",
    "\n",
    "cats = [c for c in df_raw.columns if c not in xcats]\n",
    "len(cats), len(xcats), df_raw.shape"
   ]
  },
  {
   "cell_type": "code",
   "execution_count": 6,
   "metadata": {},
   "outputs": [],
   "source": [
    "for v in cats:\n",
    "    df_trn[v] = df_trn[v].astype('category').cat.as_ordered()"
   ]
  },
  {
   "cell_type": "code",
   "execution_count": 7,
   "metadata": {},
   "outputs": [],
   "source": [
    "apply_cats(df_test, df_trn)"
   ]
  },
  {
   "cell_type": "markdown",
   "metadata": {},
   "source": [
    "# myidx, split_vals, proc_df"
   ]
  },
  {
   "cell_type": "code",
   "execution_count": 8,
   "metadata": {},
   "outputs": [],
   "source": [
    "# split into training and valid indexes\n",
    "seed = 42\n",
    "def myidxs(n, cv_idx=0, val_pct=0.2, seed=seed):\n",
    "    np.random.seed(seed)\n",
    "    n_val = int(val_pct*n)\n",
    "    idx_start = cv_idx*n_val\n",
    "    idxs = np.random.permutation(n)\n",
    "    return idxs[idx_start:idx_start+n_val], idxs[idx_start+n_val:] "
   ]
  },
  {
   "cell_type": "code",
   "execution_count": 9,
   "metadata": {},
   "outputs": [
    {
     "data": {
      "text/plain": [
       "((18408,), (73636,))"
      ]
     },
     "execution_count": 9,
     "metadata": {},
     "output_type": "execute_result"
    }
   ],
   "source": [
    "val_idx, trn_idx = myidxs(df_trn.shape[0])\n",
    "val_idx.shape, trn_idx.shape"
   ]
  },
  {
   "cell_type": "code",
   "execution_count": 10,
   "metadata": {},
   "outputs": [],
   "source": [
    "def split_vals(a,t,v):\n",
    "    if type(a)==type(df):\n",
    "        trn, val = a.iloc[t].copy(), a.iloc[v].copy()\n",
    "    elif type(a)==type(y):\n",
    "        trn, val = a[[t]].copy(), a[[v]].copy()\n",
    "    return trn, val"
   ]
  },
  {
   "cell_type": "code",
   "execution_count": 12,
   "metadata": {},
   "outputs": [],
   "source": [
    "df, y, nas = proc_df(df_trn, 'gname')"
   ]
  },
  {
   "cell_type": "code",
   "execution_count": 13,
   "metadata": {},
   "outputs": [],
   "source": [
    "dfts, yts, nas = proc_df(df_test, 'gname', na_dict=nas)"
   ]
  },
  {
   "cell_type": "code",
   "execution_count": 14,
   "metadata": {},
   "outputs": [
    {
     "data": {
      "text/plain": [
       "((92044, 116), (92044,), (78306, 116), (78306,))"
      ]
     },
     "execution_count": 14,
     "metadata": {},
     "output_type": "execute_result"
    }
   ],
   "source": [
    "df.shape, y.shape, dfts.shape, yts.shape"
   ]
  },
  {
   "cell_type": "code",
   "execution_count": 15,
   "metadata": {},
   "outputs": [
    {
     "data": {
      "text/plain": [
       "((73636, 116), (18408, 116), (73636,), (18408,))"
      ]
     },
     "execution_count": 15,
     "metadata": {},
     "output_type": "execute_result"
    }
   ],
   "source": [
    "X_train, X_valid = split_vals(df,trn_idx,val_idx)\n",
    "y_train, y_valid = split_vals(y,trn_idx,val_idx)\n",
    "X_train.shape, X_valid.shape, y_train.shape, y_valid.shape"
   ]
  },
  {
   "cell_type": "markdown",
   "metadata": {},
   "source": [
    "# the Model"
   ]
  },
  {
   "cell_type": "code",
   "execution_count": 16,
   "metadata": {},
   "outputs": [],
   "source": [
    "def print_score(m):\n",
    "    print(m.score(X_train, y_train), m.score(X_valid, y_valid),m.oob_score_)"
   ]
  },
  {
   "cell_type": "code",
   "execution_count": 17,
   "metadata": {},
   "outputs": [
    {
     "name": "stdout",
     "output_type": "stream",
     "text": [
      "CPU times: user 11min 19s, sys: 21.1 s, total: 11min 40s\n",
      "Wall time: 1min 54s\n",
      "0.999619751208648 0.8538135593220338 0.8431202129393232\n"
     ]
    }
   ],
   "source": [
    "m = RandomForestClassifier(n_estimators=40, max_features=0.5, n_jobs=-1, oob_score=True)\n",
    "%time m.fit(X_train, y_train)\n",
    "print_score(m)"
   ]
  },
  {
   "cell_type": "code",
   "execution_count": 18,
   "metadata": {},
   "outputs": [
    {
     "name": "stdout",
     "output_type": "stream",
     "text": [
      "CPU times: user 28min 32s, sys: 51.4 s, total: 29min 23s\n",
      "Wall time: 4min 45s\n",
      "0.9999728393720463 0.8576162538026945 0.8506437068825031\n"
     ]
    }
   ],
   "source": [
    "m = RandomForestClassifier(n_estimators=100, max_features=0.5, n_jobs=-1, oob_score=True)\n",
    "%time m.fit(X_train, y_train)\n",
    "print_score(m)"
   ]
  },
  {
   "cell_type": "markdown",
   "metadata": {},
   "source": [
    "# Test on test set "
   ]
  },
  {
   "cell_type": "code",
   "execution_count": 19,
   "metadata": {},
   "outputs": [
    {
     "name": "stdout",
     "output_type": "stream",
     "text": [
      "CPU times: user 2min 19s, sys: 51.7 s, total: 3min 11s\n",
      "Wall time: 51.4 s\n"
     ]
    }
   ],
   "source": [
    "% time ans = m.predict(dfts)"
   ]
  },
  {
   "cell_type": "code",
   "execution_count": 21,
   "metadata": {},
   "outputs": [],
   "source": [
    "anskey = df_trn.gname.cat.categories.tolist()"
   ]
  },
  {
   "cell_type": "code",
   "execution_count": 23,
   "metadata": {},
   "outputs": [],
   "source": [
    "final_answer = [anskey[x] for x in ans]"
   ]
  },
  {
   "cell_type": "code",
   "execution_count": 25,
   "metadata": {},
   "outputs": [],
   "source": [
    "dfts['final_answer'] = final_answer"
   ]
  },
  {
   "cell_type": "code",
   "execution_count": 26,
   "metadata": {},
   "outputs": [
    {
     "data": {
      "text/html": [
       "<div>\n",
       "<style scoped>\n",
       "    .dataframe tbody tr th:only-of-type {\n",
       "        vertical-align: middle;\n",
       "    }\n",
       "\n",
       "    .dataframe tbody tr th {\n",
       "        vertical-align: top;\n",
       "    }\n",
       "\n",
       "    .dataframe thead th {\n",
       "        text-align: right;\n",
       "    }\n",
       "</style>\n",
       "<table border=\"1\" class=\"dataframe\">\n",
       "  <thead>\n",
       "    <tr style=\"text-align: right;\">\n",
       "      <th></th>\n",
       "      <th>eventid</th>\n",
       "      <th>extended</th>\n",
       "      <th>resolution</th>\n",
       "      <th>country_txt</th>\n",
       "      <th>region_txt</th>\n",
       "      <th>provstate</th>\n",
       "      <th>city</th>\n",
       "      <th>latitude</th>\n",
       "      <th>longitude</th>\n",
       "      <th>specificity</th>\n",
       "      <th>...</th>\n",
       "      <th>myIs_month_end</th>\n",
       "      <th>myIs_month_start</th>\n",
       "      <th>myIs_quarter_end</th>\n",
       "      <th>myIs_quarter_start</th>\n",
       "      <th>myIs_year_end</th>\n",
       "      <th>myIs_year_start</th>\n",
       "      <th>myElapsed</th>\n",
       "      <th>latitude_na</th>\n",
       "      <th>longitude_na</th>\n",
       "      <th>final_answer</th>\n",
       "    </tr>\n",
       "  </thead>\n",
       "  <tbody>\n",
       "    <tr>\n",
       "      <th>2</th>\n",
       "      <td>197001000001</td>\n",
       "      <td>1</td>\n",
       "      <td>0</td>\n",
       "      <td>130</td>\n",
       "      <td>10</td>\n",
       "      <td>1532</td>\n",
       "      <td>22109</td>\n",
       "      <td>15.478598</td>\n",
       "      <td>120.599741</td>\n",
       "      <td>4</td>\n",
       "      <td>...</td>\n",
       "      <td>1</td>\n",
       "      <td>1</td>\n",
       "      <td>1</td>\n",
       "      <td>1</td>\n",
       "      <td>1</td>\n",
       "      <td>1</td>\n",
       "      <td>11</td>\n",
       "      <td>False</td>\n",
       "      <td>False</td>\n",
       "      <td>Muslims</td>\n",
       "    </tr>\n",
       "    <tr>\n",
       "      <th>3</th>\n",
       "      <td>197001000002</td>\n",
       "      <td>1</td>\n",
       "      <td>0</td>\n",
       "      <td>63</td>\n",
       "      <td>12</td>\n",
       "      <td>136</td>\n",
       "      <td>1591</td>\n",
       "      <td>37.983773</td>\n",
       "      <td>23.728157</td>\n",
       "      <td>1</td>\n",
       "      <td>...</td>\n",
       "      <td>1</td>\n",
       "      <td>1</td>\n",
       "      <td>1</td>\n",
       "      <td>1</td>\n",
       "      <td>1</td>\n",
       "      <td>1</td>\n",
       "      <td>11</td>\n",
       "      <td>False</td>\n",
       "      <td>False</td>\n",
       "      <td>Left-wing extremists</td>\n",
       "    </tr>\n",
       "    <tr>\n",
       "      <th>4</th>\n",
       "      <td>197001000003</td>\n",
       "      <td>1</td>\n",
       "      <td>0</td>\n",
       "      <td>83</td>\n",
       "      <td>4</td>\n",
       "      <td>0</td>\n",
       "      <td>7350</td>\n",
       "      <td>33.580412</td>\n",
       "      <td>130.396361</td>\n",
       "      <td>1</td>\n",
       "      <td>...</td>\n",
       "      <td>1</td>\n",
       "      <td>1</td>\n",
       "      <td>1</td>\n",
       "      <td>1</td>\n",
       "      <td>1</td>\n",
       "      <td>1</td>\n",
       "      <td>11</td>\n",
       "      <td>False</td>\n",
       "      <td>False</td>\n",
       "      <td>Airport Protesters</td>\n",
       "    </tr>\n",
       "    <tr>\n",
       "      <th>7</th>\n",
       "      <td>197001020002</td>\n",
       "      <td>1</td>\n",
       "      <td>0</td>\n",
       "      <td>177</td>\n",
       "      <td>7</td>\n",
       "      <td>307</td>\n",
       "      <td>15882</td>\n",
       "      <td>37.805065</td>\n",
       "      <td>-122.273024</td>\n",
       "      <td>1</td>\n",
       "      <td>...</td>\n",
       "      <td>1</td>\n",
       "      <td>1</td>\n",
       "      <td>1</td>\n",
       "      <td>1</td>\n",
       "      <td>1</td>\n",
       "      <td>1</td>\n",
       "      <td>2</td>\n",
       "      <td>False</td>\n",
       "      <td>False</td>\n",
       "      <td>Strikers</td>\n",
       "    </tr>\n",
       "    <tr>\n",
       "      <th>12</th>\n",
       "      <td>197001080001</td>\n",
       "      <td>1</td>\n",
       "      <td>0</td>\n",
       "      <td>80</td>\n",
       "      <td>12</td>\n",
       "      <td>863</td>\n",
       "      <td>18258</td>\n",
       "      <td>41.890520</td>\n",
       "      <td>12.494249</td>\n",
       "      <td>1</td>\n",
       "      <td>...</td>\n",
       "      <td>1</td>\n",
       "      <td>1</td>\n",
       "      <td>1</td>\n",
       "      <td>1</td>\n",
       "      <td>1</td>\n",
       "      <td>1</td>\n",
       "      <td>0</td>\n",
       "      <td>False</td>\n",
       "      <td>False</td>\n",
       "      <td>Popular Front for the Liberation of Palestine ...</td>\n",
       "    </tr>\n",
       "  </tbody>\n",
       "</table>\n",
       "<p>5 rows × 117 columns</p>\n",
       "</div>"
      ],
      "text/plain": [
       "         eventid  extended  resolution  country_txt  region_txt  provstate  \\\n",
       "2   197001000001         1           0          130          10       1532   \n",
       "3   197001000002         1           0           63          12        136   \n",
       "4   197001000003         1           0           83           4          0   \n",
       "7   197001020002         1           0          177           7        307   \n",
       "12  197001080001         1           0           80          12        863   \n",
       "\n",
       "     city   latitude   longitude  specificity  \\\n",
       "2   22109  15.478598  120.599741            4   \n",
       "3    1591  37.983773   23.728157            1   \n",
       "4    7350  33.580412  130.396361            1   \n",
       "7   15882  37.805065 -122.273024            1   \n",
       "12  18258  41.890520   12.494249            1   \n",
       "\n",
       "                          ...                          myIs_month_end  \\\n",
       "2                         ...                                       1   \n",
       "3                         ...                                       1   \n",
       "4                         ...                                       1   \n",
       "7                         ...                                       1   \n",
       "12                        ...                                       1   \n",
       "\n",
       "    myIs_month_start  myIs_quarter_end  myIs_quarter_start  myIs_year_end  \\\n",
       "2                  1                 1                   1              1   \n",
       "3                  1                 1                   1              1   \n",
       "4                  1                 1                   1              1   \n",
       "7                  1                 1                   1              1   \n",
       "12                 1                 1                   1              1   \n",
       "\n",
       "    myIs_year_start  myElapsed  latitude_na  longitude_na  \\\n",
       "2                 1         11        False         False   \n",
       "3                 1         11        False         False   \n",
       "4                 1         11        False         False   \n",
       "7                 1          2        False         False   \n",
       "12                1          0        False         False   \n",
       "\n",
       "                                         final_answer  \n",
       "2                                             Muslims  \n",
       "3                                Left-wing extremists  \n",
       "4                                  Airport Protesters  \n",
       "7                                            Strikers  \n",
       "12  Popular Front for the Liberation of Palestine ...  \n",
       "\n",
       "[5 rows x 117 columns]"
      ]
     },
     "execution_count": 26,
     "metadata": {},
     "output_type": "execute_result"
    }
   ],
   "source": [
    "dfts.head()"
   ]
  },
  {
   "cell_type": "code",
   "execution_count": 27,
   "metadata": {},
   "outputs": [],
   "source": [
    "dfts.to_csv('data/gtd/gtd-finalanswer.csv')"
   ]
  },
  {
   "cell_type": "code",
   "execution_count": null,
   "metadata": {},
   "outputs": [],
   "source": []
  }
 ],
 "metadata": {
  "kernelspec": {
   "display_name": "Python 3",
   "language": "python",
   "name": "python3"
  },
  "language_info": {
   "codemirror_mode": {
    "name": "ipython",
    "version": 3
   },
   "file_extension": ".py",
   "mimetype": "text/x-python",
   "name": "python",
   "nbconvert_exporter": "python",
   "pygments_lexer": "ipython3",
   "version": "3.6.4"
  },
  "toc": {
   "colors": {
    "hover_highlight": "#DAA520",
    "navigate_num": "#000000",
    "navigate_text": "#333333",
    "running_highlight": "#FF0000",
    "selected_highlight": "#FFD700",
    "sidebar_border": "#EEEEEE",
    "wrapper_background": "#FFFFFF"
   },
   "moveMenuLeft": true,
   "nav_menu": {
    "height": "512px",
    "width": "252px"
   },
   "navigate_menu": true,
   "number_sections": true,
   "sideBar": true,
   "threshold": 4,
   "toc_cell": false,
   "toc_section_display": "block",
   "toc_window_display": false,
   "widenNotebook": false
  }
 },
 "nbformat": 4,
 "nbformat_minor": 2
}
